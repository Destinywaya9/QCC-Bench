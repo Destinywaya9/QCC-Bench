{
  "nbformat": 4,
  "nbformat_minor": 0,
  "metadata": {
    "colab": {
      "provenance": [],
      "authorship_tag": "ABX9TyPFqq5jVq2D47CYUof8JM4M",
      "include_colab_link": true
    },
    "kernelspec": {
      "name": "python3",
      "display_name": "Python 3"
    },
    "language_info": {
      "name": "python"
    }
  },
  "cells": [
    {
      "cell_type": "markdown",
      "metadata": {
        "id": "view-in-github",
        "colab_type": "text"
      },
      "source": [
        "<a href=\"https://colab.research.google.com/github/Destinywaya9/QCC-Bench/blob/main/Untitled6.ipynb\" target=\"_parent\"><img src=\"https://colab.research.google.com/assets/colab-badge.svg\" alt=\"Open In Colab\"/></a>"
      ]
    },
    {
      "cell_type": "code",
      "source": [
        "!pip install qiskit qiskit-aer --quiet"
      ],
      "metadata": {
        "colab": {
          "base_uri": "https://localhost:8080/"
        },
        "id": "6SrTIdhCPgXf",
        "outputId": "4d859d1c-184d-4361-9bc8-33dfcef93129"
      },
      "execution_count": null,
      "outputs": [
        {
          "output_type": "stream",
          "name": "stdout",
          "text": [
            "\u001b[2K   \u001b[90m━━━━━━━━━━━━━━━━━━━━━━━━━━━━━━━━━━━━━━━━\u001b[0m \u001b[32m7.5/7.5 MB\u001b[0m \u001b[31m62.9 MB/s\u001b[0m eta \u001b[36m0:00:00\u001b[0m\n",
            "\u001b[2K   \u001b[90m━━━━━━━━━━━━━━━━━━━━━━━━━━━━━━━━━━━━━━━━\u001b[0m \u001b[32m12.4/12.4 MB\u001b[0m \u001b[31m122.9 MB/s\u001b[0m eta \u001b[36m0:00:00\u001b[0m\n",
            "\u001b[2K   \u001b[90m━━━━━━━━━━━━━━━━━━━━━━━━━━━━━━━━━━━━━━━━\u001b[0m \u001b[32m2.1/2.1 MB\u001b[0m \u001b[31m77.1 MB/s\u001b[0m eta \u001b[36m0:00:00\u001b[0m\n",
            "\u001b[2K   \u001b[90m━━━━━━━━━━━━━━━━━━━━━━━━━━━━━━━━━━━━━━━━\u001b[0m \u001b[32m49.5/49.5 kB\u001b[0m \u001b[31m3.2 MB/s\u001b[0m eta \u001b[36m0:00:00\u001b[0m\n",
            "\u001b[2K   \u001b[90m━━━━━━━━━━━━━━━━━━━━━━━━━━━━━━━━━━━━━━━━\u001b[0m \u001b[32m109.0/109.0 kB\u001b[0m \u001b[31m7.4 MB/s\u001b[0m eta \u001b[36m0:00:00\u001b[0m\n",
            "\u001b[?25h"
          ]
        }
      ]
    },
    {
      "cell_type": "code",
      "source": [
        "# Install Qiskit if not already done\n",
        "!pip install qiskit qiskit-aer --quiet\n",
        "\n",
        "# Imports\n",
        "from qiskit import QuantumCircuit, transpile\n",
        "from qiskit_aer import Aer\n",
        "from qiskit.visualization import plot_histogram\n",
        "from qiskit_aer.noise import NoiseModel\n",
        "from qiskit_aer.noise.errors import depolarizing_error\n",
        "import matplotlib.pyplot as plt\n",
        "\n",
        "# QCC Logic-Enhanced GHZ Circuit\n",
        "qc = QuantumCircuit(3, 3)\n",
        "\n",
        "# --- QCC-style Resonance Prep ---\n",
        "qc.h(0)\n",
        "qc.cx(0, 1)\n",
        "qc.cx(1, 2)\n",
        "\n",
        "# --- QCC Echo Padding (mirrored gates) ---\n",
        "qc.cx(1, 2)\n",
        "qc.cx(0, 1)\n",
        "qc.h(0)\n",
        "\n",
        "# --- QCC Rhythm Buffer ---\n",
        "qc.barrier()\n",
        "qc.delay(200, 0)\n",
        "qc.delay(200, 1)\n",
        "qc.delay(200, 2)\n",
        "\n",
        "# --- Measurement Phase ---\n",
        "qc.barrier()\n",
        "qc.measure([0, 1, 2], [0, 1, 2])\n",
        "\n",
        "# Noise model (same as baseline)\n",
        "noise_model = NoiseModel()\n",
        "noise_model.add_all_qubit_quantum_error(depolarizing_error(0.1, 1), ['u1', 'u2', 'u3'])\n",
        "noise_model.add_all_qubit_quantum_error(depolarizing_error(0.1, 2), ['cx'])\n",
        "\n",
        "# Execute\n",
        "backend = Aer.get_backend('qasm_simulator')\n",
        "transpiled_qc = transpile(qc, backend=backend) # Transpile once\n",
        "# Run with transpiled circuit (wrapped in a list) and shots\n",
        "result = backend.run([transpiled_qc], noise_model=noise_model, shots=1024).result()\n",
        "\n",
        "# Output\n",
        "counts = result.get_counts()\n",
        "print(\"QCC-Logic Measurement Results:\", counts)\n",
        "plot_histogram(counts)\n",
        "plt.show()"
      ],
      "metadata": {
        "colab": {
          "base_uri": "https://localhost:8080/"
        },
        "id": "yoWxkIGPPmm2",
        "outputId": "a8d32305-a693-442d-90ca-64adf3e18817"
      },
      "execution_count": null,
      "outputs": [
        {
          "output_type": "stream",
          "name": "stdout",
          "text": [
            "QCC-Logic Measurement Results: {'000': 1024}\n"
          ]
        }
      ]
    },
    {
      "cell_type": "code",
      "source": [
        "# echo_scaffold.py (inline version)\n",
        "from qiskit import QuantumCircuit\n",
        "\n",
        "def integrate(qc: QuantumCircuit) -> QuantumCircuit:\n",
        "    # Echo Padding\n",
        "    qc.cx(1, 2)\n",
        "    qc.cx(0, 1)\n",
        "    qc.h(0)\n",
        "\n",
        "    # Rhythm Buffer\n",
        "    qc.barrier()\n",
        "    qc.delay(200, 0)\n",
        "    qc.delay(200, 1)\n",
        "    qc.delay(200, 2)\n",
        "\n",
        "    return qc\n",
        "\n",
        "# SDK runner\n",
        "def run_qcc(base_circuit, shots=1024, backend_name='qasm_simulator'):\n",
        "    from qiskit import Aer, transpile, assemble\n",
        "    from qiskit.providers.aer.noise import NoiseModel\n",
        "    from qiskit.providers.aer.noise.errors import depolarizing_error\n",
        "\n",
        "    qc = integrate(base_circuit)\n",
        "\n",
        "    noise_model = NoiseModel()\n",
        "    noise_model.add_all_qubit_quantum_error(depolarizing_error(0.1, 1), ['u1', 'u2', 'u3'])\n",
        "    noise_model.add_all_qubit_quantum_error(depolarizing_error(0.1, 2), ['cx'])\n",
        "\n",
        "    backend = Aer.get_backend(backend_name)\n",
        "    transpiled_qc = transpile(qc, backend)\n",
        "    qobj = assemble(transpiled_qc, shots=shots)\n",
        "\n",
        "    result = backend.run(qobj, noise_model=noise_model).result()\n",
        "    return {'counts': result.get_counts()}"
      ],
      "metadata": {
        "id": "BT_rY62APsUu"
      },
      "execution_count": null,
      "outputs": []
    },
    {
      "cell_type": "code",
      "source": [
        "from qiskit import QuantumCircuit, transpile\n",
        "from qiskit_aer import Aer\n",
        "from qiskit_aer.noise import NoiseModel\n",
        "from qiskit_aer.noise.errors import depolarizing_error"
      ],
      "metadata": {
        "id": "ElTHIlEmP1dj"
      },
      "execution_count": null,
      "outputs": []
    },
    {
      "cell_type": "code",
      "source": [
        "### 🔬 Benchmark 3: Signal Integrity Under Modular Drift"
      ],
      "metadata": {
        "id": "tqjC3ji4P6w6"
      },
      "execution_count": null,
      "outputs": []
    },
    {
      "cell_type": "code",
      "source": [
        "!pip install qiskit qiskit-ibm-provider --upgrade --quiet\n",
        "!pip install qiskit-terra --upgrade --quiet"
      ],
      "metadata": {
        "colab": {
          "base_uri": "https://localhost:8080/"
        },
        "id": "LmRDT8XdQehE",
        "outputId": "ab643ba3-0a53-4929-f819-0a976a011311"
      },
      "execution_count": null,
      "outputs": [
        {
          "output_type": "stream",
          "name": "stdout",
          "text": [
            "\u001b[2K   \u001b[90m━━━━━━━━━━━━━━━━━━━━━━━━━━━━━━━━━━━━━━━━\u001b[0m \u001b[32m5.4/5.4 MB\u001b[0m \u001b[31m46.8 MB/s\u001b[0m eta \u001b[36m0:00:00\u001b[0m\n",
            "\u001b[2K   \u001b[90m━━━━━━━━━━━━━━━━━━━━━━━━━━━━━━━━━━━━━━━━\u001b[0m \u001b[32m50.4/50.4 MB\u001b[0m \u001b[31m17.4 MB/s\u001b[0m eta \u001b[36m0:00:00\u001b[0m\n",
            "\u001b[?25h"
          ]
        }
      ]
    },
    {
      "cell_type": "code",
      "execution_count": null,
      "metadata": {
        "colab": {
          "base_uri": "https://localhost:8080/",
          "height": 255
        },
        "id": "Nlid5UPKPcp8",
        "outputId": "44ddd426-fb40-4c12-97c1-3412a5b272c5"
      },
      "outputs": [
        {
          "output_type": "stream",
          "name": "stdout",
          "text": [
            "Results: {'000': 2048}\n"
          ]
        },
        {
          "output_type": "display_data",
          "data": {
            "text/plain": [
              "<Figure size 640x480 with 1 Axes>"
            ],
            "image/png": "[encoded data removed]"
          },
          "metadata": {}
        }
      ],
      "source": [
        "!pip install qiskit --quiet\n",
        "!pip install qiskit-aer --quiet # Ensure qiskit-aer is installed\n",
        "!pip install qiskit-ibm-provider --upgrade --quiet # Keep this for IBM backend\n",
        "\n",
        "# --- Import Dependencies ---\n",
        "from qiskit import QuantumCircuit, transpile\n",
        "from qiskit_aer import Aer # Import Aer from qiskit_aer\n",
        "# If using IBM Quantum backend, you'll need:\n",
        "# from qiskit_ibm_provider import IBMProvider\n",
        "from qiskit.visualization import plot_histogram\n",
        "import matplotlib.pyplot as plt\n",
        "\n",
        "# --- Define EchoP2 Quantum Circuit (QCC-Kernel Locked) ---\n",
        "qc = QuantumCircuit(3, 3)\n",
        "\n",
        "# --- QCC-style Resonance Prep ---\n",
        "qc.h(0)\n",
        "qc.cx(0, 1)\n",
        "qc.cx(1, 2)\n",
        "\n",
        "# --- QCC Echo Padding (mirrored gates) ---\n",
        "qc.cx(1, 2)\n",
        "qc.cx(0, 1)\n",
        "qc.h(0)\n",
        "\n",
        "# --- QCC Rhythm Buffer ---\n",
        "qc.barrier()\n",
        "qc.delay(200, 0)\n",
        "qc.delay(200, 1)\n",
        "qc.delay(200, 2)\n",
        "\n",
        "# Measurement\n",
        "qc.measure([0, 1, 2], [0, 1, 2])\n",
        "\n",
        "# --- Simulate using Aer's qasm_simulator ---\n",
        "# If using IBM Quantum backend, you'll need to configure and get the backend:\n",
        "# ibm_token = \"YOUR_IBM_QUANTUM_TOKEN\" # Replace with your token\n",
        "# provider = IBMProvider(token=ibm_token)\n",
        "# backend = provider.get_backend(\"ibmq_lima\") # Replace with your backend name\n",
        "\n",
        "simulator = Aer.get_backend('qasm_simulator')\n",
        "\n",
        "# Use backend.run() instead of execute()\n",
        "# For Aer simulator:\n",
        "job = simulator.run(qc, shots=2048)\n",
        "\n",
        "# For IBM Quantum backend:\n",
        "# transpiled_qc = transpile(qc, backend=backend, optimization_level=1)\n",
        "# job = backend.run(transpiled_qc, shots=1024)\n",
        "# print(f\"Job ID: {job.job_id()}\")\n",
        "\n",
        "\n",
        "# --- Get and Display Results ---\n",
        "result = job.result()\n",
        "counts = result.get_counts()\n",
        "# Update title based on backend\n",
        "title = \"EchoP2 Simulated Benchmark Results (2048 Shots)\" # For Aer\n",
        "# title = f\"EchoP2 Hardware Run Results on {backend.name}\" # For IBM Quantum\n",
        "\n",
        "print(\"Results:\", counts)\n",
        "\n",
        "# --- Plot Histogram ---\n",
        "plot_histogram(counts)\n",
        "plt.title(title)\n",
        "plt.tight_layout()\n",
        "plt.show()"
      ]
    },
    {
      "cell_type": "code",
      "source": [
        "!pip install qiskit qiskit-aer --quiet"
      ],
      "metadata": {
        "id": "z7dfleXUT0ZX"
      },
      "execution_count": null,
      "outputs": []
    },
    {
      "cell_type": "code",
      "metadata": {
        "colab": {
          "base_uri": "https://localhost:8080/",
          "height": 255
        },
        "id": "0f06fb93",
        "outputId": "7ae82803-48c8-410e-9d2d-99f11cce240d"
      },
      "source": [
        "!pip install qiskit --quiet\n",
        "!pip install qiskit-aer --quiet # Ensure qiskit-aer is installed\n",
        "!pip install qiskit-ibm-provider --upgrade --quiet # Keep this for IBM backend\n",
        "\n",
        "# --- Import Dependencies ---\n",
        "from qiskit import QuantumCircuit, transpile\n",
        "from qiskit_aer import Aer # Import Aer from qiskit_aer\n",
        "# If using IBM Quantum backend, you'll need:\n",
        "# from qiskit_ibm_provider import IBMProvider\n",
        "from qiskit.visualization import plot_histogram\n",
        "import matplotlib.pyplot as plt\n",
        "\n",
        "# --- Define EchoP2 Kernel ---\n",
        "qc = QuantumCircuit(3, 3)\n",
        "\n",
        "# --- QCC-style Resonance Prep ---\n",
        "qc.h(0)\n",
        "qc.cx(0, 1)\n",
        "qc.cx(1, 2)\n",
        "\n",
        "# --- QCC Echo Padding (mirrored gates) ---\n",
        "qc.cx(1, 2)\n",
        "qc.cx(0, 1)\n",
        "qc.h(0)\n",
        "\n",
        "# --- QCC Rhythm Buffer ---\n",
        "qc.barrier()\n",
        "qc.delay(200, 0)\n",
        "qc.delay(200, 1)\n",
        "qc.delay(200, 2)\n",
        "\n",
        "# --- Measurement ---\n",
        "qc.measure([0, 1, 2], [0, 1, 2])\n",
        "\n",
        "# Use backend.run() instead of execute()\n",
        "# For Aer simulator:\n",
        "job = simulator.run(qc, shots=131072)\n",
        "\n",
        "# For IBM Quantum backend:\n",
        "# transpiled_qc = transpile(qc, backend=backend, optimization_level=1)\n",
        "# job = backend.run(transpiled_qc, shots=131072)\n",
        "# print(f\"Job ID: {job.job_id()}\")\n",
        "\n",
        "\n",
        "# --- Get and Display Results ---\n",
        "result = job.result()\n",
        "counts = result.get_counts()\n",
        "# Update title based on backend\n",
        "title = \"EchoP2 Simulated Benchmark Results (131072 Shots)\" # For Aer\n",
        "# title = f\"EchoP2 Hardware Run Results on {backend.name}\" # For IBM Quantum\n",
        "\n",
        "print(\"Results:\", counts)\n",
        "\n",
        "# --- Plot Histogram ---\n",
        "plot_histogram(counts)\n",
        "plt.title(title)\n",
        "plt.tight_layout()\n",
        "plt.show()"
      ],
      "execution_count": null,
      "outputs": [
        {
          "output_type": "stream",
          "name": "stdout",
          "text": [
            "Results: {'000': 131072}\n"
          ]
        },
        {
          "output_type": "display_data",
          "data": {
            "text/plain": [
              "<Figure size 640x480 with 1 Axes>"
            ],
            "image/png": "[encoded data removed]"
          },
          "metadata": {}
        }
      ]
    }
  ]
}