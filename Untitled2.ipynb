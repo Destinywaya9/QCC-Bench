{
  "nbformat": 4,
  "nbformat_minor": 0,
  "metadata": {
    "colab": {
      "provenance": [],
      "authorship_tag": "ABX9TyOrJIbFt0NOwD6nCOcmFHlh",
      "include_colab_link": true
    },
    "kernelspec": {
      "name": "python3",
      "display_name": "Python 3"
    },
    "language_info": {
      "name": "python"
    }
  },
  "cells": [
    {
      "cell_type": "markdown",
      "metadata": {
        "id": "view-in-github",
        "colab_type": "text"
      },
      "source": [
        "<a href=\"https://colab.research.google.com/github/Destinywaya9/QCC-Bench/blob/main/Untitled2.ipynb\" target=\"_parent\"><img src=\"https://colab.research.google.com/assets/colab-badge.svg\" alt=\"Open In Colab\"/></a>"
      ]
    },
    {
      "cell_type": "code",
      "source": [
        "!pip install qiskit qiskit-aer --quiet"
      ],
      "metadata": {
        "id": "tAZfBO-laDia"
      },
      "execution_count": null,
      "outputs": []
    },
    {
      "cell_type": "code",
      "source": [
        "from qiskit_aer import Aer\n",
        "from qiskit_aer.noise import NoiseModel\n",
        "from qiskit_aer.noise.errors import depolarizing_error"
      ],
      "metadata": {
        "id": "uNKzqsCcaYj0"
      },
      "execution_count": null,
      "outputs": []
    },
    {
      "cell_type": "code",
      "source": [
        "# Install Qiskit if not already done\n",
        "!pip install qiskit qiskit-aer --quiet\n",
        "\n",
        "# Imports\n",
        "from qiskit import QuantumCircuit, transpile\n",
        "from qiskit_aer import Aer\n",
        "from qiskit.visualization import plot_histogram\n",
        "from qiskit_aer.noise import NoiseModel\n",
        "from qiskit_aer.noise.errors import depolarizing_error\n",
        "import matplotlib.pyplot as plt\n",
        "\n",
        "# QCC Logic-Enhanced GHZ Circuit\n",
        "qc = QuantumCircuit(3, 3)\n",
        "\n",
        "# --- QCC-style Resonance Prep ---\n",
        "qc.h(0)\n",
        "qc.cx(0, 1)\n",
        "qc.cx(1, 2)\n",
        "\n",
        "# --- QCC Echo Padding (mirrored gates) ---\n",
        "qc.cx(1, 2)\n",
        "qc.cx(0, 1)\n",
        "qc.h(0)\n",
        "\n",
        "# --- QCC Rhythm Buffer ---\n",
        "qc.barrier()\n",
        "qc.delay(200, 0)\n",
        "qc.delay(200, 1)\n",
        "qc.delay(200, 2)\n",
        "\n",
        "# --- Measurement Phase ---\n",
        "qc.barrier()\n",
        "qc.measure([0, 1, 2], [0, 1, 2])\n",
        "\n",
        "# Noise model (same as baseline)\n",
        "noise_model = NoiseModel()\n",
        "noise_model.add_all_qubit_quantum_error(depolarizing_error(0.1, 1), ['u1', 'u2', 'u3'])\n",
        "noise_model.add_all_qubit_quantum_error(depolarizing_error(0.1, 2), ['cx'])\n",
        "\n",
        "# Execute\n",
        "backend = Aer.get_backend('qasm_simulator')\n",
        "transpiled_qc = transpile(qc, backend=backend) # Transpile once\n",
        "# Run with transpiled circuit (wrapped in a list) and shots\n",
        "result = backend.run([transpiled_qc], noise_model=noise_model, shots=1024).result()\n",
        "\n",
        "# Output\n",
        "counts = result.get_counts()\n",
        "print(\"QCC-Logic Measurement Results:\", counts)\n",
        "plot_histogram(counts)\n",
        "plt.show()"
      ],
      "metadata": {
        "colab": {
          "base_uri": "https://localhost:8080/"
        },
        "id": "JKF4oJPybGSa",
        "outputId": "529fdef8-9ae4-4a88-cf76-b64f8a729126"
      },
      "execution_count": null,
      "outputs": [
        {
          "output_type": "stream",
          "name": "stdout",
          "text": [
            "QCC-Logic Measurement Results: {'000': 1024}\n"
          ]
        }
      ]
    }
  ]
}